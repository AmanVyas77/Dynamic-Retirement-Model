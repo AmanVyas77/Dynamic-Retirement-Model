{
 "cells": [
  {
   "cell_type": "code",
   "execution_count": 2,
   "id": "736c7476",
   "metadata": {},
   "outputs": [],
   "source": [
    "from dataclasses import dataclass"
   ]
  },
  {
   "cell_type": "code",
   "execution_count": 3,
   "id": "35682fd5",
   "metadata": {},
   "outputs": [
    {
     "data": {
      "text/plain": [
       "ModelInputs(starting_salary=60000, promos_every_n_years=5, cost_of_living_raise=0.02, promo_raise=0.15, savings_rate=0.25, interest_rate=0.05, desired_cash=1500000)"
      ]
     },
     "execution_count": 3,
     "metadata": {},
     "output_type": "execute_result"
    }
   ],
   "source": [
    "@dataclass\n",
    "class ModelInputs:\n",
    "    starting_salary: int = 60000\n",
    "    promos_every_n_years: int = 5\n",
    "    cost_of_living_raise: float = 0.02\n",
    "    promo_raise: float = 0.15\n",
    "    savings_rate: float = 0.25\n",
    "    interest_rate: float = 0.05\n",
    "    desired_cash: int = 1500000\n",
    "        \n",
    "model_data = ModelInputs()\n",
    "model_data"
   ]
  },
  {
   "cell_type": "markdown",
   "id": "56665bb2",
   "metadata": {},
   "source": [
    "# Salary\n"
   ]
  },
  {
   "cell_type": "markdown",
   "id": "1621c5db",
   "metadata": {},
   "source": [
    "Here the salary for each year is calculated. We assume that the salary grows at a constant rate each year for cost of living raises, and then also every number of years, the salary increases by a further percentage due to a promotion or switching jobs. Based on this assumption, the salary would evolve over time with the following equation:\n",
    "\n",
    "$$s_t = s_0 (1 + r_{cl})^n (1 + r_p)^p$$\n",
    "\n",
    "Where:\n",
    "- $s_t$: Salary at year $t$\n",
    "- $s_0$: Starting salary (year 0)\n",
    "- $r_{cl}$: Annual cost of living raise\n",
    "- $r_p$: Promotion raise\n",
    "- $p$: Number of promotions\n"
   ]
  },
  {
   "cell_type": "code",
   "execution_count": 4,
   "id": "72e542a2",
   "metadata": {},
   "outputs": [],
   "source": [
    "def salary_at_year (data, year):\n",
    "\n",
    "    num_promos = int(year / data.promos_every_n_years)\n",
    "    salary_t = data.starting_salary * (1 + data.cost_of_living_raise)**year * (1 + data.promo_raise)**num_promos\n",
    "    return salary_t"
   ]
  },
  {
   "cell_type": "code",
   "execution_count": 5,
   "id": "88df6324",
   "metadata": {},
   "outputs": [
    {
     "name": "stdout",
     "output_type": "stream",
     "text": [
      "The salary at year 1 is $61200.\n",
      "The salary at year 2 is $62424.\n",
      "The salary at year 3 is $63672.\n",
      "The salary at year 4 is $64946.\n",
      "The salary at year 5 is $76182.\n",
      "The salary at year 6 is $77705.\n"
     ]
    }
   ],
   "source": [
    "for i in range(6):\n",
    "    year = i + 1\n",
    "    salary = salary_at_year(model_data, year)\n",
    "    print (f'The salary at year {year} is ${salary:.0f}.')"
   ]
  },
  {
   "cell_type": "markdown",
   "id": "ec18ad58",
   "metadata": {},
   "source": [
    "# Wealth\n"
   ]
  },
  {
   "cell_type": "markdown",
   "id": "157dbb25",
   "metadata": {},
   "source": [
    "To get the wealth at each year, it is just applying the investment return to last year's wealth, then adding this year's cash saved:\n",
    "\n",
    "$$w_t = w_{t-1} (1 + r_i) + c_t$$\n",
    "Where:\n",
    "- $w_t$: Wealth at year $t$\n",
    "- $r_i$: Investment rate\n",
    "- $c_t$: Cash saved during year $t$\n",
    "- $r_s$: Savings rate"
   ]
  },
  {
   "cell_type": "code",
   "execution_count": 6,
   "id": "32ef8006",
   "metadata": {},
   "outputs": [
    {
     "data": {
      "text/plain": [
       "19045.3938552"
      ]
     },
     "execution_count": 6,
     "metadata": {},
     "output_type": "execute_result"
    }
   ],
   "source": [
    "def cash_saved_during_year (model_data, year):\n",
    "    salary = salary_at_year(model_data, year) \n",
    "    cash_saved = salary * model_data.savings_rate \n",
    "    return cash_saved\n",
    "cash_saved_during_year(model_data,5)"
   ]
  },
  {
   "cell_type": "code",
   "execution_count": 7,
   "id": "79eb07e7",
   "metadata": {},
   "outputs": [
    {
     "ename": "NameError",
     "evalue": "name 'wealth' is not defined",
     "output_type": "error",
     "traceback": [
      "\u001b[0;31m---------------------------------------------------------------------------\u001b[0m",
      "\u001b[0;31mNameError\u001b[0m                                 Traceback (most recent call last)",
      "Cell \u001b[0;32mIn[7], line 8\u001b[0m\n\u001b[1;32m      6\u001b[0m     wealth \u001b[38;5;241m=\u001b[39m prior_wealth \u001b[38;5;241m*\u001b[39m (\u001b[38;5;241m1\u001b[39m\u001b[38;5;241m+\u001b[39mmodel_data\u001b[38;5;241m.\u001b[39minterest_rate) \u001b[38;5;241m+\u001b[39m cash_saved\n\u001b[1;32m      7\u001b[0m     \u001b[38;5;28;01mreturn\u001b[39;00m wealth\n\u001b[0;32m----> 8\u001b[0m wealth\n",
      "\u001b[0;31mNameError\u001b[0m: name 'wealth' is not defined"
     ]
    }
   ],
   "source": [
    "year = 5\n",
    "prior_wealth = 0\n",
    "\n",
    "def wealth_at_year(model_data, year, prior_wealth):\n",
    "    cash_saved = cash_saved_during_year (model_data, year)\n",
    "    wealth = prior_wealth * (1+model_data.interest_rate) + cash_saved\n",
    "    return wealth\n",
    "wealth"
   ]
  },
  {
   "cell_type": "code",
   "execution_count": 8,
   "id": "ae2f1bf5",
   "metadata": {},
   "outputs": [
    {
     "name": "stdout",
     "output_type": "stream",
     "text": [
      "The wealth at year 1 is $15300.\n",
      "The wealth at year 2 is $31671.\n",
      "The wealth at year 3 is $49173.\n",
      "The wealth at year 4 is $67868.\n",
      "The wealth at year 5 is $90307.\n",
      "The wealth at year 6 is $114248.\n"
     ]
    }
   ],
   "source": [
    "prior_wealth = 0  # starting with no cash saved\n",
    "for i in range(6):\n",
    "    year = i + 1\n",
    "    wealth = wealth_at_year(model_data, year, prior_wealth)\n",
    "    print(f'The wealth at year {year} is ${wealth:.0f}.')\n",
    "    \n",
    "    # Set next year's prior wealth to this year's wealth\n",
    "    prior_wealth = wealth"
   ]
  },
  {
   "cell_type": "markdown",
   "id": "a9c8ae72",
   "metadata": {},
   "source": [
    "# Retirement"
   ]
  },
  {
   "cell_type": "code",
   "execution_count": null,
   "id": "9de6e97b",
   "metadata": {},
   "outputs": [],
   "source": []
  },
  {
   "cell_type": "code",
   "execution_count": 15,
   "id": "040cb320",
   "metadata": {},
   "outputs": [
    {
     "name": "stdout",
     "output_type": "stream",
     "text": [
      "wealth\n",
      "The wealth at year 1 is $15,300.\n",
      "The wealth at year 2 is $31,671.\n",
      "The wealth at year 3 is $49,173.\n",
      "The wealth at year 4 is $67,868.\n",
      "The wealth at year 5 is $90,307.\n",
      "The wealth at year 6 is $114,248.\n",
      "The wealth at year 7 is $139,775.\n",
      "The wealth at year 8 is $166,975.\n",
      "The wealth at year 9 is $195,939.\n",
      "The wealth at year 10 is $229,918.\n",
      "The wealth at year 11 is $266,080.\n",
      "The wealth at year 12 is $304,542.\n",
      "The wealth at year 13 is $345,431.\n",
      "The wealth at year 14 is $388,878.\n",
      "The wealth at year 15 is $439,025.\n",
      "The wealth at year 16 is $492,294.\n",
      "The wealth at year 17 is $548,853.\n",
      "The wealth at year 18 is $608,878.\n",
      "The wealth at year 19 is $672,557.\n",
      "The wealth at year 20 is $745,168.\n",
      "The wealth at year 21 is $822,190.\n",
      "The wealth at year 22 is $903,859.\n",
      "The wealth at year 23 is $990,422.\n",
      "The wealth at year 24 is $1,082,140.\n",
      "The wealth at year 25 is $1,185,745.\n",
      "The wealth at year 26 is $1,295,520.\n",
      "The wealth at year 27 is $1,411,793.\n",
      "The wealth at year 28 is $1,534,910.\n",
      "\n",
      "Retirement:\n",
      "IT will take 28 years to retire.\n"
     ]
    }
   ],
   "source": [
    "def years_to_retirement(model_data):\n",
    "    prior_wealth = 0\n",
    "    wealth = 0 \n",
    "    year = 0\n",
    "    \n",
    "    print('wealth')\n",
    "    while wealth < model_data.desired_cash: \n",
    "        year = year + 1 \n",
    "        wealth = wealth_at_year(model_data, year, prior_wealth)\n",
    "        print(f'The wealth at year {year} is ${wealth:,.0f}.')\n",
    "        \n",
    "        prior_wealth = wealth\n",
    "    \n",
    "    print(f'\\nRetirement:\\nIT will take {year} years to retire.') \n",
    "    return year\n",
    "years = years_to_retirement(model_data)"
   ]
  },
  {
   "cell_type": "code",
   "execution_count": null,
   "id": "d42c9a67",
   "metadata": {},
   "outputs": [],
   "source": []
  },
  {
   "cell_type": "code",
   "execution_count": null,
   "id": "6422388f",
   "metadata": {},
   "outputs": [],
   "source": []
  }
 ],
 "metadata": {
  "kernelspec": {
   "display_name": "Python 3 (ipykernel)",
   "language": "python",
   "name": "python3"
  },
  "language_info": {
   "codemirror_mode": {
    "name": "ipython",
    "version": 3
   },
   "file_extension": ".py",
   "mimetype": "text/x-python",
   "name": "python",
   "nbconvert_exporter": "python",
   "pygments_lexer": "ipython3",
   "version": "3.11.7"
  }
 },
 "nbformat": 4,
 "nbformat_minor": 5
}
